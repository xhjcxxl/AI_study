{
 "cells": [
  {
   "cell_type": "code",
   "execution_count": null,
   "metadata": {},
   "outputs": [],
   "source": [
    "if 0:\n",
    "    cmd11 = (int('C1',16),0xC1)#现在已经转化成了16进制了\n",
    "    print(cmd11)#打印出出来就是16进制\n",
    "    if (cmd11[0] == cmd11[1]):#判断跟16进制的数是不是一样的\n",
    "        print(\"OK\")\n",
    "    else:\n",
    "        print(\"NO\")\n",
    "    for index in cmd11:#遍历打印出来的是整数，不是16进制数\n",
    "        print(index)\n",
    "\n",
    "    cmd12 = hex(cmd11[0])#这是字符串了\n",
    "    print(cmd12)#这是打印的字符串\n",
    "    print(\"%x\"%(0xC1))\n",
    "    print(\"%x\"%(cmd11[0]))\n",
    "\n",
    "\n",
    "    cmd1 = \"C1 01 01\"\n",
    "    cmd16 = cmd1.split(' ')\n",
    "    #cmd16 = tuple(cmd16)\n",
    "    print(cmd16)\n",
    "    #print(int(cmd16[0],16))\n",
    "    print(cmd16[0])\n",
    "    for i in cmd16:\n",
    "        print(i)"
   ]
  },
  {
   "cell_type": "code",
   "execution_count": null,
   "metadata": {},
   "outputs": [],
   "source": [
    "def Str_To_List(cmd1):\n",
    "    cmd1 = re.sub(r\"(?<=\\w)(?=(?:\\w\\w)+$)\", \" \", cmd1)\n",
    "    cmd16 = cmd1.split(' ')\n",
    "    print(cmd16)\n",
    "    print(\"------------------------\")\n",
    "    for i in range(len(cmd16)):\n",
    "        print(i,cmd16[i])\n",
    "        print(\"====\")\n",
    "        cmd16[i] = int(cmd16[i],16)\n",
    "    print(cmd16)\n",
    "    print(\"------------------------\")\n",
    "    return cmd16"
   ]
  },
  {
   "cell_type": "code",
   "execution_count": null,
   "metadata": {},
   "outputs": [],
   "source": [
    "import re\n",
    "import sys\n",
    "a = \"C10101\"\n",
    "while (a != \"q\"):\n",
    "    print(\"-----------=============\")\n",
    "    cmdd = Str_To_List(a)\n",
    "    print(\"-----------=============\")\n",
    "    print(cmdd)\n",
    "    print(type(cmdd))\n",
    "    a = input(\"input:\\n\");"
   ]
  },
  {
   "cell_type": "code",
   "execution_count": null,
   "metadata": {},
   "outputs": [],
   "source": [
    "ret = ['AB','CD','EF','GH','IJ','KL','1','2','3']\n",
    "print(ret)\n",
    "ret = ret[:-1]\n",
    "print(ret)\n",
    "ret = ret[6:]\n",
    "print(ret)"
   ]
  }
 ],
 "metadata": {
  "kernelspec": {
   "display_name": "Python 3",
   "language": "python",
   "name": "python3"
  },
  "language_info": {
   "codemirror_mode": {
    "name": "ipython",
    "version": 3
   },
   "file_extension": ".py",
   "mimetype": "text/x-python",
   "name": "python",
   "nbconvert_exporter": "python",
   "pygments_lexer": "ipython3",
   "version": "3.6.3"
  }
 },
 "nbformat": 4,
 "nbformat_minor": 2
}
