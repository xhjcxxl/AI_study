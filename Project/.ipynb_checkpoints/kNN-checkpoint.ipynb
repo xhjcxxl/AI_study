{
 "cells": [
  {
   "cell_type": "code",
   "execution_count": 174,
   "metadata": {
    "collapsed": true
   },
   "outputs": [],
   "source": [
    "from numpy import *\n",
    "import operator"
   ]
  },
  {
   "cell_type": "code",
   "execution_count": 175,
   "metadata": {
    "collapsed": true
   },
   "outputs": [],
   "source": [
    "def createDataSet():\n",
    "    group = array([[1.0, 1.1], [1.0, 1.0], [0, 0], [0, 0.1]])\n",
    "    labels = ['A', 'A', 'B', 'B']\n",
    "    return group, labels"
   ]
  },
  {
   "cell_type": "code",
   "execution_count": 176,
   "metadata": {
    "collapsed": true
   },
   "outputs": [],
   "source": [
    "def kNNClassify(newInput, dataSet, labels, k):  \n",
    "    numSamples = dataSet.shape[0] # shape[0] stands for the num of row  \n",
    "    ## step 1: calculate Euclidean distance  \n",
    "    # tile(A, reps): Construct an array by repeating A reps times  \n",
    "    # the following copy numSamples rows for dataSet  \n",
    "    diff = tile(newInput, (numSamples, 1)) - dataSet # Subtract element-wise  \n",
    "    squaredDiff = diff ** 2 # squared for the subtract  \n",
    "    squaredDist = sum(squaredDiff, axis = 1) # sum is performed by row  \n",
    "    distance = squaredDist ** 0.5  \n",
    "  \n",
    "    ## step 2: sort the distance  \n",
    "    # argsort() returns the indices that would sort an array in a ascending order  \n",
    "    sortedDistIndices = argsort(distance)  \n",
    "  \n",
    "    classCount = {} # define a dictionary (can be append element)  \n",
    "    for i in range(k):  \n",
    "        ## step 3: choose the min k distance  \n",
    "        voteLabel = labels[sortedDistIndices[i]]  \n",
    "  \n",
    "        ## step 4: count the times labels occur  \n",
    "        # when the key voteLabel is not in dictionary classCount, get()  \n",
    "        # will return 0  \n",
    "        classCount[voteLabel] = classCount.get(voteLabel, 0) + 1  \n",
    "  \n",
    "    ## step 5: the max voted class will return  \n",
    "    maxCount = 0  \n",
    "    for key, value in classCount.items():  \n",
    "        if value > maxCount:  \n",
    "            maxCount = value  \n",
    "            maxIndex = key  \n",
    "  \n",
    "    return maxIndex"
   ]
  },
  {
   "cell_type": "code",
   "execution_count": 177,
   "metadata": {},
   "outputs": [],
   "source": [
    "group, labels = createDataSet()"
   ]
  },
  {
   "cell_type": "code",
   "execution_count": 180,
   "metadata": {},
   "outputs": [
    {
     "data": {
      "text/plain": [
       "'A'"
      ]
     },
     "execution_count": 180,
     "metadata": {},
     "output_type": "execute_result"
    }
   ],
   "source": [
    "kNNClassify([1, 1], group, labels, 3)"
   ]
  }
 ],
 "metadata": {
  "kernelspec": {
   "display_name": "Python 3",
   "language": "python",
   "name": "python3"
  },
  "language_info": {
   "codemirror_mode": {
    "name": "ipython",
    "version": 3
   },
   "file_extension": ".py",
   "mimetype": "text/x-python",
   "name": "python",
   "nbconvert_exporter": "python",
   "pygments_lexer": "ipython3",
   "version": "3.6.3"
  }
 },
 "nbformat": 4,
 "nbformat_minor": 2
}
