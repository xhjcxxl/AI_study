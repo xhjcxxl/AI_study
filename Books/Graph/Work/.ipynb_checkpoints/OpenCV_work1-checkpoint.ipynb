{
 "cells": [
  {
   "cell_type": "markdown",
   "metadata": {},
   "source": [
    "# -初次使用"
   ]
  },
  {
   "cell_type": "code",
   "execution_count": null,
   "metadata": {},
   "outputs": [],
   "source": [
    "import numpy as np\n",
    "import cv2\n",
    "#----------------------------------\n",
    "import matplotlib.pyplot as plt#from matplotlib import pyplot as plt"
   ]
  },
  {
   "cell_type": "code",
   "execution_count": null,
   "metadata": {},
   "outputs": [],
   "source": [
    "img = cv2.imread('longkui.jpg', 0)#读取图像\n",
    "cv2.namedWindow('image')\n",
    "cv2.imshow('image11', img)#显示图像\n",
    "cv2.waitKey(0)\n",
    "cv2.destroyAllWindows()\n",
    "#k = cv2.waitKey(0)&0xFF#等待按键\n",
    "#if k==27:#判断按键是否位ese\n",
    "#    cv2.destoryAllWindows()#退出\n",
    "#elif k==ord('s'):\n",
    "#    cv2.imwrite('longkui1.jpg')#保存后退出\n",
    "#    cv2.desoryAllWindows()"
   ]
  },
  {
   "cell_type": "code",
   "execution_count": null,
   "metadata": {},
   "outputs": [],
   "source": [
    "img = cv2.imread('longkui.jpg', 0)#读取图像\n",
    "plt.imshow(img, cmap='gray',interpolation='bicubic')\n",
    "plt.xticks([]),plt.yticks([])\n",
    "plt.show()"
   ]
  },
  {
   "cell_type": "markdown",
   "metadata": {},
   "source": [
    "# -绘图函数"
   ]
  },
  {
   "cell_type": "code",
   "execution_count": null,
   "metadata": {},
   "outputs": [],
   "source": [
    "import numpy as np\n",
    "import cv2"
   ]
  },
  {
   "cell_type": "markdown",
   "metadata": {},
   "source": [
    "# -单个实例"
   ]
  },
  {
   "cell_type": "code",
   "execution_count": null,
   "metadata": {},
   "outputs": [],
   "source": [
    "# 创建一个黑色的图像 000黑色，512,512,3三层\n",
    "# 灰度为0 彩图 \n",
    "# 图片矩阵大小（像素512 X 512， 3为RGB三色）， 数据类型\n",
    "img = np.zeros((512, 512, 3), np.uint8)\n",
    "\n",
    "# 背景，起点坐标，终点坐标，颜色（255,0,0纯蓝色），线宽\n",
    "cv2.line(img, (10,0), (260, 260), (255, 0, 0), 2)\n",
    "\n",
    "# 创建窗口 显示出来\n",
    "cv2.namedWindow('image',cv2.WINDOW_NORMAL)\n",
    "cv2.resizeWindow('image', 1000, 800)#定义方框大小，显示的方框\n",
    "cv2.imshow('image', img)\n",
    "cv2.waitKey(0)\n",
    "cv2.destroyAllWindows()"
   ]
  },
  {
   "cell_type": "markdown",
   "metadata": {},
   "source": [
    "# -多个实例"
   ]
  },
  {
   "cell_type": "code",
   "execution_count": null,
   "metadata": {},
   "outputs": [],
   "source": [
    "img_mul = np.zeros((512, 512, 3), np.uint8)#黑色\n",
    "\n",
    "# 背景，起点坐标，终点坐标，颜色，线宽\n",
    "cv2.line(img_mul, (10,0), (260, 260), (255, 0, 0), 2)\n",
    "\n",
    "# 背景，左上角，右下角，颜色，线宽\n",
    "cv2.rectangle(img_mul, (10, 10), (200, 120), (0, 255, 0), 3)#矩形\n",
    "\n",
    "# 背景，圆心，半径，颜色，线宽（-1表示内部填满）\n",
    "cv2.circle(img_mul, (425, 63), 63, (0, 0, 255), -1)#-1表示向内填充\n",
    "\n",
    "# 背景，中心点坐标，长轴短轴， 旋转角度， 显示部分， 颜色，线宽\n",
    "cv2.ellipse(img_mul, (256, 356), (100, 50), 60,\n",
    "            0, 360, (255, 0 ,255), -1)\n",
    "\n",
    "# 背景，内容，写的位置，字体，大小，颜色，线宽，类型\n",
    "cv2.putText(img_mul, 'Hello world', (10, 500), cv2.FONT_HERSHEY_PLAIN,\n",
    "            4, (0, 255, 255), 2, cv2.LINE_AA)\n",
    "# 创建窗口，显示出来\n",
    "cv2.namedWindow('image1',cv2.WINDOW_NORMAL)\n",
    "cv2.resizeWindow('image1', 1000, 800)\n",
    "cv2.imshow('image1', img_mul)\n",
    "cv2.waitKey(0)\n",
    "cv2.destroyAllWindows()"
   ]
  }
 ],
 "metadata": {
  "kernelspec": {
   "display_name": "Python 3",
   "language": "python",
   "name": "python3"
  },
  "language_info": {
   "codemirror_mode": {
    "name": "ipython",
    "version": 3
   },
   "file_extension": ".py",
   "mimetype": "text/x-python",
   "name": "python",
   "nbconvert_exporter": "python",
   "pygments_lexer": "ipython3",
   "version": "3.6.3"
  }
 },
 "nbformat": 4,
 "nbformat_minor": 2
}
