{
 "cells": [
  {
   "cell_type": "code",
   "execution_count": 12,
   "metadata": {},
   "outputs": [],
   "source": [
    "import cv2\n",
    "import numpy as np"
   ]
  },
  {
   "cell_type": "code",
   "execution_count": 13,
   "metadata": {},
   "outputs": [
    {
     "name": "stdout",
     "output_type": "stream",
     "text": [
      "[151 132 135]\n",
      "151\n",
      "132\n",
      "135\n",
      "[255 255 255]\n"
     ]
    }
   ],
   "source": [
    "img = cv2.imread('longkui.jpg')\n",
    "# 读取图像位置 [100, 100] RGB值\n",
    "px = img[100, 100]\n",
    "# 打印 RGB值\n",
    "print(px)\n",
    "\n",
    "# 读取图像位置 的R值 [100, 100, 0]\n",
    "# 第一层 R\n",
    "R = img[100, 100, 0]\n",
    "print(R)\n",
    "# 第二层 G\n",
    "G = img[100, 100, 1]\n",
    "print(G)\n",
    "# 第三层 B\n",
    "B = img[100, 100, 2]\n",
    "print(B)\n",
    "\n",
    "# 设置 RGB值 到图像中\n",
    "img[101, 101] = [255, 255, 255]\n",
    "print(img[101, 101])"
   ]
  },
  {
   "cell_type": "code",
   "execution_count": 14,
   "metadata": {
    "scrolled": true
   },
   "outputs": [
    {
     "name": "stdout",
     "output_type": "stream",
     "text": [
      "135\n",
      "100\n",
      "坐标[0,0]的数据： 167 154 108\n",
      "shape: (1080, 1440, 3)\n",
      "shape的值乘起来，size: 4665600\n",
      "dtype: uint8\n"
     ]
    }
   ],
   "source": [
    "print(img.item(100, 100, 2))\n",
    "img.itemset((100, 100, 2), 100)\n",
    "print(img.item(100, 100, 2))\n",
    "\n",
    "print('坐标[0,0]的数据：', img[0,0,0], img[0, 0, 1], img[0, 0, 2])\n",
    "# 行 列 通道 1080 X 100 RGB三层\n",
    "# [1080, 100, 3]\n",
    "print(\"shape:\", img.shape)\n",
    "print(\"shape的值乘起来，size:\", img.size)\n",
    "print(\"dtype:\", img.dtype)"
   ]
  },
  {
   "cell_type": "code",
   "execution_count": 15,
   "metadata": {},
   "outputs": [],
   "source": [
    "# 复制选中区域\n",
    "ball = img[780:1080, 1270:1440]\n",
    "img[0:300, 1270:1440] = ball\n",
    "\n",
    "# 显示数据出来\n",
    "cv2.imshow('image3', img)\n",
    "cv2.waitKey(0)\n",
    "cv2.destroyAllWindows()"
   ]
  },
  {
   "cell_type": "code",
   "execution_count": 21,
   "metadata": {},
   "outputs": [
    {
     "name": "stdout",
     "output_type": "stream",
     "text": [
      "r: [[167 167 167 ..., 212 212 212]\n",
      " [164 164 164 ..., 212 212 212]\n",
      " [161 161 161 ..., 212 212 212]\n",
      " ..., \n",
      " [215 214 221 ...,  85  85  86]\n",
      " [223 216 218 ...,  86  87  87]\n",
      " [233 223 220 ...,  96  97  97]]\n",
      "g: [[154 154 154 ..., 181 181 181]\n",
      " [151 151 151 ..., 181 181 181]\n",
      " [148 148 149 ..., 181 181 181]\n",
      " ..., \n",
      " [122 123 130 ...,  59  59  60]\n",
      " [130 125 127 ...,  60  61  61]\n",
      " [140 132 129 ...,  70  71  71]]\n",
      "b: [[108 108 108 ..., 158 158 158]\n",
      " [105 105 105 ..., 158 158 158]\n",
      " [102 102 101 ..., 158 158 158]\n",
      " ..., \n",
      " [ 53  54  63 ...,  42  42  43]\n",
      " [ 61  56  58 ...,  43  44  44]\n",
      " [ 71  63  60 ...,  53  54  54]]\n"
     ]
    }
   ],
   "source": [
    "r,g,b=cv2.split(img)\n",
    "print(\"r:\", r)\n",
    "print(\"g:\", g)\n",
    "print(\"b:\", b)"
   ]
  },
  {
   "cell_type": "code",
   "execution_count": null,
   "metadata": {},
   "outputs": [],
   "source": []
  }
 ],
 "metadata": {
  "kernelspec": {
   "display_name": "Python 3",
   "language": "python",
   "name": "python3"
  },
  "language_info": {
   "codemirror_mode": {
    "name": "ipython",
    "version": 3
   },
   "file_extension": ".py",
   "mimetype": "text/x-python",
   "name": "python",
   "nbconvert_exporter": "python",
   "pygments_lexer": "ipython3",
   "version": "3.6.3"
  }
 },
 "nbformat": 4,
 "nbformat_minor": 2
}
