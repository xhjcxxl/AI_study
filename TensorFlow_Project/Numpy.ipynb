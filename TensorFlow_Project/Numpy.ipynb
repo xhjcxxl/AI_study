{
 "cells": [
  {
   "cell_type": "code",
   "execution_count": 9,
   "metadata": {
    "collapsed": true
   },
   "outputs": [],
   "source": [
    "from numpy import *"
   ]
  },
  {
   "cell_type": "code",
   "execution_count": 10,
   "metadata": {},
   "outputs": [
    {
     "data": {
      "text/plain": [
       "array([[ 0.3752502 ,  0.51558345,  0.9015341 ,  0.20386815],\n",
       "       [ 0.12964667,  0.04356876,  0.71418867,  0.7305    ],\n",
       "       [ 0.65962738,  0.15665344,  0.33140669,  0.71881665],\n",
       "       [ 0.14726679,  0.61325801,  0.6688412 ,  0.97984551]])"
      ]
     },
     "execution_count": 10,
     "metadata": {},
     "output_type": "execute_result"
    }
   ],
   "source": [
    "random.rand(4,4)"
   ]
  },
  {
   "cell_type": "code",
   "execution_count": 11,
   "metadata": {},
   "outputs": [
    {
     "data": {
      "text/plain": [
       "matrix([[ 2.57171503, -2.04816372, -0.84513589, -0.45762611],\n",
       "        [ 1.84872529, -0.09262054, -1.28315983, -1.65577944],\n",
       "        [-3.31912762,  2.56987831,  2.50311064,  0.16372677],\n",
       "        [-0.98152919,  0.57081824,  0.41435414,  1.58553415]])"
      ]
     },
     "execution_count": 11,
     "metadata": {},
     "output_type": "execute_result"
    }
   ],
   "source": [
    "randMat = mat(random.rand(4,4))\n",
    "randMat.I"
   ]
  },
  {
   "cell_type": "code",
   "execution_count": 13,
   "metadata": {},
   "outputs": [
    {
     "data": {
      "text/plain": [
       "matrix([[  1.00000000e+00,   7.63278329e-17,   1.77809156e-16,\n",
       "          -3.33066907e-16],\n",
       "        [  2.77555756e-16,   1.00000000e+00,   3.62557206e-16,\n",
       "           4.44089210e-16],\n",
       "        [ -1.80411242e-16,  -1.24900090e-16,   1.00000000e+00,\n",
       "          -3.33066907e-16],\n",
       "        [ -5.55111512e-17,  -5.55111512e-17,  -1.04083409e-16,\n",
       "           1.00000000e+00]])"
      ]
     },
     "execution_count": 13,
     "metadata": {},
     "output_type": "execute_result"
    }
   ],
   "source": [
    "InvRandMat = randMat.I\n",
    "InvRandMat * randMat"
   ]
  },
  {
   "cell_type": "code",
   "execution_count": 14,
   "metadata": {},
   "outputs": [
    {
     "data": {
      "text/plain": [
       "array([[ 1.,  0.,  0.,  0.],\n",
       "       [ 0.,  1.,  0.,  0.],\n",
       "       [ 0.,  0.,  1.,  0.],\n",
       "       [ 0.,  0.,  0.,  1.]])"
      ]
     },
     "execution_count": 14,
     "metadata": {},
     "output_type": "execute_result"
    }
   ],
   "source": [
    "myEye = eye(4)\n",
    "myEye"
   ]
  },
  {
   "cell_type": "code",
   "execution_count": null,
   "metadata": {
    "collapsed": true
   },
   "outputs": [],
   "source": []
  }
 ],
 "metadata": {
  "kernelspec": {
   "display_name": "Python 3",
   "language": "python",
   "name": "python3"
  },
  "language_info": {
   "codemirror_mode": {
    "name": "ipython",
    "version": 3
   },
   "file_extension": ".py",
   "mimetype": "text/x-python",
   "name": "python",
   "nbconvert_exporter": "python",
   "pygments_lexer": "ipython3",
   "version": "3.6.3"
  }
 },
 "nbformat": 4,
 "nbformat_minor": 2
}
